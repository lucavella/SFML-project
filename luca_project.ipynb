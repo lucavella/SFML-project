{
 "cells": [
  {
   "attachments": {},
   "cell_type": "markdown",
   "id": "887edaa3",
   "metadata": {},
   "source": [
    "# How do different fairness notions affect the performance of machine learning models?\n",
    "In this section we will explore how different fairness notions affect the performance of a machine learning model. We will cover the following notions:\n",
    "* Group fairness\n",
    "* Individual fairness\n",
    "* Equalized odds\n",
    "* Equal opportunity\n",
    "\n",
    "First, we motivate the relevance of this research questions by contextualizing it in contemporary trends of machine learning. We discuss each notion separately. Then, we briefly look at the theoretic background of these notions and predict the expected performance. We conclude by putting these notions to the test."
   ]
  }
 ],
 "metadata": {
  "kernelspec": {
   "display_name": "Python 3 (ipykernel)",
   "language": "python",
   "name": "python3"
  },
  "language_info": {
   "codemirror_mode": {
    "name": "ipython",
    "version": 3
   },
   "file_extension": ".py",
   "mimetype": "text/x-python",
   "name": "python",
   "nbconvert_exporter": "python",
   "pygments_lexer": "ipython3",
   "version": "3.11.3"
  }
 },
 "nbformat": 4,
 "nbformat_minor": 5
}
