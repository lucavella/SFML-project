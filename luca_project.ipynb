{
 "cells": [
  {
   "attachments": {},
   "cell_type": "markdown",
   "id": "0541cedc",
   "metadata": {},
   "source": [
    "## Imports"
   ]
  },
  {
   "cell_type": "code",
   "execution_count": 23,
   "id": "d76e99b9",
   "metadata": {},
   "outputs": [],
   "source": [
    "# Scikit-learn\n",
    "from sklearn.datasets import fetch_california_housing\n",
    "from sklearn.compose import ColumnTransformer\n",
    "from sklearn.preprocessing import FunctionTransformer, LabelEncoder, OneHotEncoder, OrdinalEncoder, LabelBinarizer\n",
    "from sklearn.pipeline import Pipeline\n",
    "from sklearn.compose import TransformedTargetRegressor\n",
    "from sklearn.model_selection import KFold, RandomizedSearchCV\n",
    "from sklearn.feature_selection import SelectKBest, f_regression\n",
    "from sklearn.metrics import mean_absolute_error, r2_score\n",
    "from sklearn.tree import DecisionTreeRegressor\n",
    "\n",
    "# Data manipulation and math\n",
    "import pandas as pd\n",
    "import numpy as np\n",
    "import math\n",
    "\n",
    "# Visualization\n",
    "import matplotlib.pyplot as plt"
   ]
  },
  {
   "attachments": {},
   "cell_type": "markdown",
   "id": "2db75fa0",
   "metadata": {},
   "source": [
    "## Datasets fetch\n",
    "**TODO:** short description of datasets"
   ]
  },
  {
   "cell_type": "code",
   "execution_count": 16,
   "id": "7a1b34af",
   "metadata": {},
   "outputs": [
    {
     "name": "stdout",
     "output_type": "stream",
     "text": [
      "vehicle-insurance-customer-data.zip: Skipping, found more recently modified local copy (use --force to force download)\n"
     ]
    }
   ],
   "source": [
    "!kaggle datasets download -p data ranja7/vehicle-insurance-customer-data\n",
    "insurance_df = pd.read_csv('data/vehicle-insurance-customer-data.zip')\n",
    "cancer_df = fetch_california_housing(as_frame=True)"
   ]
  },
  {
   "attachments": {},
   "cell_type": "markdown",
   "id": "887edaa3",
   "metadata": {},
   "source": [
    "# How does satisfying group and individual fairness notions affect the performance of machine learning models and how do they compare?\n",
    "In this section we will explore how group and individual fairness notions affect the performance of a machine learning model. First, we motivate this research questions by contextualizing its relevance in problems of machine learning. We discuss each notion separately. Then, we briefly look at the theoretic background of these notions and predict the expected performance. We conclude by putting these notions to the test."
   ]
  },
  {
   "attachments": {},
   "cell_type": "markdown",
   "id": "5b83aa71",
   "metadata": {},
   "source": [
    "## Motivation\n",
    "Machine learning applications are increasingly being applied in the industry. Legislators, insurers and banks are playing catch-up to integrate this technology in the process of decision-making. Supervised learning often relies on historical data. This means that bias present in the data is transferred to the model. Perpetuating this bias is not only unfair, but often unlawful or contrary to company policy. Chouldechova & Roth (2018) identify three causes of unfairness:\n",
    "* **Bias in training data**: historical data that has human bias embedded in it. A classic example is the disproportionate amount of crime committed by some marginalized and ostracized communities. However, this can often be explained by considering the socio-economic situation. Also, these areas might be policed at a higher rate, which further skews crime-prediction models.\n",
    "* **Minimizing average error**: a majority group will be more accurately represented in a model than a minority group. Naturally, it follows from the fact that the majority group has a larger representation and thus minimizing errors will benefit more if the error of each individual has the same weight.\n",
    "* **Related to exploration**: online learning models that gets updated with new information while being used, can greatly benefit from the information gained of taking suboptimal decisions. This can be either amoral (e.g. for medical procedures) or benefit/disadvantage certain groups.\n",
    "\n",
    "Different fairness notions have been introduced in the literature to mitigate problems like these. Knowing which notion to satisfy, depends on the problem at hand."
   ]
  },
  {
   "attachments": {},
   "cell_type": "markdown",
   "id": "08e0e741",
   "metadata": {},
   "source": [
    "## Fairness notions\n",
    "We will now introduce each fairness notion that is going to be applied."
   ]
  },
  {
   "attachments": {},
   "cell_type": "markdown",
   "id": "01c1d719",
   "metadata": {},
   "source": [
    "### Statistical parity\n",
    "There exists different group fairness notions (for a full list, see Barocas et al., 2017). Group fairness notions seek to be fair for a protected group. In this work, we only consider **statistical parity** (also known as **demographic parity**). It is satisfied for a given (sensitive) group attribute when the *positive* classification distribution for each group is identical to that of the entire population (Barocas et al., 2017). This means that predictions needs to be statistically independent with respect to the group attribute. For a group attribute $G$ and attribute to predict $Y$ (with \"$+$\" deemed a *positive* prediction), it must hold that:\n",
    "$$\\forall a,b \\in G: \\mathbb{P}(Y = + \\mid G = a) = \\mathbb{P}(Y = + \\mid G = b)$$"
   ]
  },
  {
   "attachments": {},
   "cell_type": "markdown",
   "id": "29126d0f",
   "metadata": {},
   "source": [
    "### Individual fairness\n",
    "As opposed to group fairness notions, **individual fairness** does not look at a sensitive property in particular. Individual fairness is satisfied when similar individuals are classified similarly, in proportion to their degree of similarity (Dwork et al., 2012). To accomplish this, we need a distance metric $d$ to quantify similarity between individuals and a distance metric $D$ to compare the difference between distributions. Individual fairness is satisfied for a classifier $M$ if it satisfies the $(D, d)$-**Lipschitz property**. It entails that for any two individuals $x$, $y$ it holds that:\n",
    "$$D(M(x), M(y)) \\le d(x, y)$$"
   ]
  },
  {
   "attachments": {},
   "cell_type": "markdown",
   "id": "ce105b12",
   "metadata": {},
   "source": [
    "## Fulfilling notions"
   ]
  },
  {
   "attachments": {},
   "cell_type": "markdown",
   "id": "563e0535",
   "metadata": {},
   "source": [
    "### Preprocessing\n",
    "We start by performing preprocessing on the dataset. Skewed data that follows an exponential-like distribution is transformed using the logarithm. Nominal categories are one-hot encoded using dummy columns for each possible category. Ordinal categories are processed appropriately."
   ]
  },
  {
   "cell_type": "code",
   "execution_count": 36,
   "id": "d30bd809",
   "metadata": {},
   "outputs": [],
   "source": [
    "ctf = ColumnTransformer(\n",
    "    transformers=[\n",
    "        (\n",
    "            'exp_dist',\n",
    "            FunctionTransformer(lambda x: np.log(x, where=x>0)), # log transform to remove data skew\n",
    "            ['Customer Lifetime Value', 'Total Claim Amount']\n",
    "        ), (\n",
    "            'scale_income',\n",
    "            FunctionTransformer(lambda x: x / 1000),\n",
    "            'Income'\n",
    "        ), (\n",
    "            'encode_gender',\n",
    "            LabelEncoder().fit(['M', 'F']), # M=0, F=1\n",
    "            'Gender'\n",
    "        ), (\n",
    "            'encode_ordinal',\n",
    "            OneHotEncoder(),\n",
    "            ['EmploymentStatus', 'Marital Status', 'Policy Type', 'Policy', 'Vehicle Class']\n",
    "        ), (\n",
    "            'encode_coverage',\n",
    "            OrdinalEncoder(categories=['Basic', 'Extended', 'Premium']),\n",
    "            'Coverage'\n",
    "        ), (\n",
    "            'encode_education',\n",
    "            OrdinalEncoder(categories=['High School or Below', 'College', 'Bachelor', 'Master', 'Doctor']),\n",
    "            'Education'\n",
    "        ), (\n",
    "            'encode_size',\n",
    "            OrdinalEncoder(categories=['Small', 'Medsize', 'Large']),\n",
    "            'Vehicle Size'\n",
    "        ), (\n",
    "            'pass',\n",
    "            'passthrough',\n",
    "            ['Number of Open Complaints', 'Number of Policies']\n",
    "        )\n",
    "    ],\n",
    "    remainder='drop'\n",
    ")\n",
    "\n",
    "# Select K best hyperparameters based on recommended F-test\n",
    "insurance_pipe = Pipeline([\n",
    "    (\"col_trans\", ctf),\n",
    "    (\"k_best\", SelectKBest(f_regression))\n",
    "])\n",
    "\n",
    "insurance_ttr = TransformedTargetRegressor(\n",
    "    regressor=insurance_pipe,\n",
    "    transformer=LabelBinarizer()\n",
    ")"
   ]
  },
  {
   "cell_type": "code",
   "execution_count": 38,
   "id": "ee108be4",
   "metadata": {},
   "outputs": [],
   "source": [
    "insurance_y = insurance_df['Response']\n",
    "insurance_X =  insurance_df.drop('Response', axis=1)"
   ]
  },
  {
   "cell_type": "code",
   "execution_count": null,
   "id": "2fb88b48",
   "metadata": {},
   "outputs": [],
   "source": [
    "num_splits = 5\n",
    "cv = KFold(n_splits=num_splits, shuffle=True, random_state=0)"
   ]
  },
  {
   "attachments": {},
   "cell_type": "markdown",
   "id": "24c96e63",
   "metadata": {},
   "source": [
    "## Sources\n",
    "* Chouldechova, A., & Roth, A. (2018). The frontiers of fairness in machine learning. *arXiv preprint arXiv:1810.08810*.\n",
    "* Barocas, S., Hardt, M., & Narayanan, A. (2017). Fairness in machine learning. Nips tutorial, 1, 2017.\n",
    "* Dwork, C., Hardt, M., Pitassi, T., Reingold, O., & Zemel, R. (2012, January). Fairness through awareness. In *Proceedings of the 3rd innovations in theoretical computer science conference* (pp. 214-226)."
   ]
  },
  {
   "attachments": {},
   "cell_type": "markdown",
   "id": "95b66d00",
   "metadata": {},
   "source": []
  }
 ],
 "metadata": {
  "kernelspec": {
   "display_name": "Python 3 (ipykernel)",
   "language": "python",
   "name": "python3"
  },
  "language_info": {
   "codemirror_mode": {
    "name": "ipython",
    "version": 3
   },
   "file_extension": ".py",
   "mimetype": "text/x-python",
   "name": "python",
   "nbconvert_exporter": "python",
   "pygments_lexer": "ipython3",
   "version": "3.11.3"
  }
 },
 "nbformat": 4,
 "nbformat_minor": 5
}
