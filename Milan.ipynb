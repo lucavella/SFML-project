{
 "cells": [
  {
   "cell_type": "markdown",
   "id": "9cd28481",
   "metadata": {},
   "source": [
    "# What is the impact of class imbalance and different sampling methods on the performance of machine learning algorithms for classification?\n",
    "\n",
    "Using a (synthetic) imbalanced dataset (hier nog welke), we will compare the performance of 2 classification algorithms. We will then investigate the impact of class imbalance on the performance of these algoritms, using different sampling methods such as random under-sampling, random over-sampling and SMOTE. Specifically, we will measure and compare the in-sample and out-of-sample performance of the algorithms under varying degrees of class imbalance and sampling methods.\n",
    "\n",
    "# Random under-sampling & random over-sampling\n",
    "\n",
    "The most naive class of techniques for dealing with class imbalances is sampling. Random under-sampling involves removing some of the majority class samples at random until the dataset is balanced. Whereas random over-sampling involves duplicating some of the minority class samples at random until the dataset is balanced.\n",
    "\n",
    "# SMOTE\n",
    "\n",
    "SMOTE is a more sophisticated technique that generates synthetic samples for the minority class based on the characteristics of that class. This helps to balance the classes while preserving the information in the dataset."
   ]
  }
 ],
 "metadata": {
  "kernelspec": {
   "display_name": "Python 3 (ipykernel)",
   "language": "python",
   "name": "python3"
  },
  "language_info": {
   "codemirror_mode": {
    "name": "ipython",
    "version": 3
   },
   "file_extension": ".py",
   "mimetype": "text/x-python",
   "name": "python",
   "nbconvert_exporter": "python",
   "pygments_lexer": "ipython3",
   "version": "3.9.12"
  }
 },
 "nbformat": 4,
 "nbformat_minor": 5
}
